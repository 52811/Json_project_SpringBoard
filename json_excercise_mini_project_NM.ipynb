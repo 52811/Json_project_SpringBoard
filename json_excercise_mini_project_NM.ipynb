{
 "cells": [
  {
   "cell_type": "code",
   "execution_count": 35,
   "metadata": {},
   "outputs": [],
   "source": [
    "#import the relevant libraries and packages \n",
    "import numpy as np\n",
    "import pandas as pd\n",
    "import json\n",
    "from pandas.io.json import json_normalize"
   ]
  },
  {
   "cell_type": "markdown",
   "metadata": {},
   "source": [
    "Uploading the File\n",
    "#Define the path of the file\n"
   ]
  },
  {
   "cell_type": "code",
   "execution_count": 36,
   "metadata": {},
   "outputs": [
    {
     "data": {
      "text/html": [
       "<div>\n",
       "<style scoped>\n",
       "    .dataframe tbody tr th:only-of-type {\n",
       "        vertical-align: middle;\n",
       "    }\n",
       "\n",
       "    .dataframe tbody tr th {\n",
       "        vertical-align: top;\n",
       "    }\n",
       "\n",
       "    .dataframe thead th {\n",
       "        text-align: right;\n",
       "    }\n",
       "</style>\n",
       "<table border=\"1\" class=\"dataframe\">\n",
       "  <thead>\n",
       "    <tr style=\"text-align: right;\">\n",
       "      <th></th>\n",
       "      <th>_id</th>\n",
       "      <th>approvalfy</th>\n",
       "      <th>board_approval_month</th>\n",
       "      <th>boardapprovaldate</th>\n",
       "      <th>borrower</th>\n",
       "      <th>closingdate</th>\n",
       "      <th>country_namecode</th>\n",
       "      <th>countrycode</th>\n",
       "      <th>countryname</th>\n",
       "      <th>countryshortname</th>\n",
       "      <th>...</th>\n",
       "      <th>sectorcode</th>\n",
       "      <th>source</th>\n",
       "      <th>status</th>\n",
       "      <th>supplementprojectflg</th>\n",
       "      <th>theme1</th>\n",
       "      <th>theme_namecode</th>\n",
       "      <th>themecode</th>\n",
       "      <th>totalamt</th>\n",
       "      <th>totalcommamt</th>\n",
       "      <th>url</th>\n",
       "    </tr>\n",
       "  </thead>\n",
       "  <tbody>\n",
       "    <tr>\n",
       "      <th>0</th>\n",
       "      <td>{'$oid': '52b213b38594d8a2be17c780'}</td>\n",
       "      <td>1999</td>\n",
       "      <td>November</td>\n",
       "      <td>2013-11-12T00:00:00Z</td>\n",
       "      <td>FEDERAL DEMOCRATIC REPUBLIC OF ETHIOPIA</td>\n",
       "      <td>2018-07-07T00:00:00Z</td>\n",
       "      <td>Federal Democratic Republic of Ethiopia!$!ET</td>\n",
       "      <td>ET</td>\n",
       "      <td>Federal Democratic Republic of Ethiopia</td>\n",
       "      <td>Ethiopia</td>\n",
       "      <td>...</td>\n",
       "      <td>ET,BS,ES,EP</td>\n",
       "      <td>IBRD</td>\n",
       "      <td>Active</td>\n",
       "      <td>N</td>\n",
       "      <td>{'Name': 'Education for all', 'Percent': 100}</td>\n",
       "      <td>[{'name': 'Education for all', 'code': '65'}]</td>\n",
       "      <td>65</td>\n",
       "      <td>130000000</td>\n",
       "      <td>130000000</td>\n",
       "      <td>http://www.worldbank.org/projects/P129828/ethi...</td>\n",
       "    </tr>\n",
       "    <tr>\n",
       "      <th>1</th>\n",
       "      <td>{'$oid': '52b213b38594d8a2be17c781'}</td>\n",
       "      <td>2015</td>\n",
       "      <td>November</td>\n",
       "      <td>2013-11-04T00:00:00Z</td>\n",
       "      <td>GOVERNMENT OF TUNISIA</td>\n",
       "      <td>NaN</td>\n",
       "      <td>Republic of Tunisia!$!TN</td>\n",
       "      <td>TN</td>\n",
       "      <td>Republic of Tunisia</td>\n",
       "      <td>Tunisia</td>\n",
       "      <td>...</td>\n",
       "      <td>BZ,BS</td>\n",
       "      <td>IBRD</td>\n",
       "      <td>Active</td>\n",
       "      <td>N</td>\n",
       "      <td>{'Name': 'Other economic management', 'Percent...</td>\n",
       "      <td>[{'name': 'Other economic management', 'code':...</td>\n",
       "      <td>54,24</td>\n",
       "      <td>0</td>\n",
       "      <td>4700000</td>\n",
       "      <td>http://www.worldbank.org/projects/P144674?lang=en</td>\n",
       "    </tr>\n",
       "  </tbody>\n",
       "</table>\n",
       "<p>2 rows × 50 columns</p>\n",
       "</div>"
      ],
      "text/plain": [
       "                                    _id  approvalfy board_approval_month  \\\n",
       "0  {'$oid': '52b213b38594d8a2be17c780'}        1999             November   \n",
       "1  {'$oid': '52b213b38594d8a2be17c781'}        2015             November   \n",
       "\n",
       "      boardapprovaldate                                 borrower  \\\n",
       "0  2013-11-12T00:00:00Z  FEDERAL DEMOCRATIC REPUBLIC OF ETHIOPIA   \n",
       "1  2013-11-04T00:00:00Z                    GOVERNMENT OF TUNISIA   \n",
       "\n",
       "            closingdate                              country_namecode  \\\n",
       "0  2018-07-07T00:00:00Z  Federal Democratic Republic of Ethiopia!$!ET   \n",
       "1                   NaN                      Republic of Tunisia!$!TN   \n",
       "\n",
       "  countrycode                              countryname countryshortname  ...  \\\n",
       "0          ET  Federal Democratic Republic of Ethiopia         Ethiopia  ...   \n",
       "1          TN                      Republic of Tunisia          Tunisia  ...   \n",
       "\n",
       "    sectorcode source  status  supplementprojectflg  \\\n",
       "0  ET,BS,ES,EP   IBRD  Active                     N   \n",
       "1        BZ,BS   IBRD  Active                     N   \n",
       "\n",
       "                                              theme1  \\\n",
       "0      {'Name': 'Education for all', 'Percent': 100}   \n",
       "1  {'Name': 'Other economic management', 'Percent...   \n",
       "\n",
       "                                      theme_namecode themecode   totalamt  \\\n",
       "0      [{'name': 'Education for all', 'code': '65'}]        65  130000000   \n",
       "1  [{'name': 'Other economic management', 'code':...     54,24          0   \n",
       "\n",
       "  totalcommamt                                                url  \n",
       "0    130000000  http://www.worldbank.org/projects/P129828/ethi...  \n",
       "1      4700000  http://www.worldbank.org/projects/P144674?lang=en  \n",
       "\n",
       "[2 rows x 50 columns]"
      ]
     },
     "execution_count": 36,
     "metadata": {},
     "output_type": "execute_result"
    }
   ],
   "source": [
    "sample_json_df = pd.read_json('Downloads/data_wrangling_json/data/world_bank_projects_less.json')\n",
    "sample_json_df"
   ]
  },
  {
   "cell_type": "markdown",
   "metadata": {},
   "source": [
    "# Question 1: Find the 10 countries with most projects"
   ]
  },
  {
   "cell_type": "code",
   "execution_count": 37,
   "metadata": {},
   "outputs": [
    {
     "name": "stdout",
     "output_type": "stream",
     "text": [
      "<class 'list'>\n",
      "500\n",
      "<class 'dict'>\n",
      "dict_keys(['sector', 'supplementprojectflg', 'projectfinancialtype', 'prodline', 'mjtheme', 'idacommamt', 'impagency', 'project_name', 'mjthemecode', 'closingdate', 'totalcommamt', 'id', 'mjsector_namecode', 'docty', 'sector1', 'lendinginstr', 'countrycode', 'sector2', 'totalamt', 'mjtheme_namecode', 'boardapprovaldate', 'countryshortname', 'sector4', 'prodlinetext', 'productlinetype', 'regionname', 'status', 'country_namecode', 'envassesmentcategorycode', 'project_abstract', 'approvalfy', 'projectdocs', 'lendprojectcost', 'lendinginstrtype', 'theme1', 'grantamt', 'themecode', 'borrower', 'sectorcode', 'sector3', 'majorsector_percent', 'board_approval_month', 'theme_namecode', 'countryname', 'url', 'source', 'projectstatusdisplay', 'ibrdcommamt', 'sector_namecode', '_id'])\n"
     ]
    }
   ],
   "source": [
    "#opening the JSON file in \"read-only\" mode using a context manager\n",
    "# Use the path to open the file\n",
    "# One can also define the path as a variable and then use it here\n",
    "with open('Downloads/data_wrangling_json/data/world_bank_projects.json', 'r') as json_file:\n",
    "    wb_json_data = json.load(json_file)\n",
    "    \n",
    "# General QC \n",
    "#checking to see the structure of the loaded World Bank data\n",
    "print(type(wb_json_data))\n",
    "\n",
    "##### This is a list. Next we should enquire the number of items in the list \n",
    "\n",
    "print(len(wb_json_data))\n",
    "\n",
    "#### A total of 500 item are there in the list \n",
    "### Lets try to find out what is the content \n",
    "print (type (wb_json_data[0]))\n",
    "\n",
    "#### The data type is dictionary \n",
    "## Dictionary have keys and values \n",
    "\n",
    "print (wb_json_data[0].keys())\n",
    "\n",
    "#as a result, our object is a list of 500 projects with the below dictionary keys"
   ]
  },
  {
   "cell_type": "code",
   "execution_count": 38,
   "metadata": {},
   "outputs": [
    {
     "name": "stdout",
     "output_type": "stream",
     "text": [
      "                   _id.$oid approvalfy board_approval_month  \\\n",
      "0  52b213b38594d8a2be17c780       1999             November   \n",
      "1  52b213b38594d8a2be17c781       2015             November   \n",
      "2  52b213b38594d8a2be17c782       2014             November   \n",
      "3  52b213b38594d8a2be17c783       2014              October   \n",
      "4  52b213b38594d8a2be17c784       2014              October   \n",
      "5  52b213b38594d8a2be17c785       2014              October   \n",
      "6  52b213b38594d8a2be17c786       2014              October   \n",
      "7  52b213b38594d8a2be17c787       2014              October   \n",
      "8  52b213b38594d8a2be17c788       2014              October   \n",
      "9  52b213b38594d8a2be17c789       2014              October   \n",
      "\n",
      "      boardapprovaldate                                 borrower  \\\n",
      "0  2013-11-12T00:00:00Z  FEDERAL DEMOCRATIC REPUBLIC OF ETHIOPIA   \n",
      "1  2013-11-04T00:00:00Z                    GOVERNMENT OF TUNISIA   \n",
      "2  2013-11-01T00:00:00Z   MINISTRY OF FINANCE AND ECONOMIC DEVEL   \n",
      "3  2013-10-31T00:00:00Z   MIN. OF PLANNING AND INT'L COOPERATION   \n",
      "4  2013-10-31T00:00:00Z                      MINISTRY OF FINANCE   \n",
      "5  2013-10-31T00:00:00Z                        REPUBLIC OF KENYA   \n",
      "6  2013-10-29T00:00:00Z                      GOVERNMENT OF INDIA   \n",
      "7  2013-10-29T00:00:00Z               PEOPLE'S REPUBLIC OF CHINA   \n",
      "8  2013-10-29T00:00:00Z                  THE GOVERNMENT OF INDIA   \n",
      "9  2013-10-29T00:00:00Z                   THE KINGDOM OF MOROCCO   \n",
      "\n",
      "            closingdate                              country_namecode  \\\n",
      "0  2018-07-07T00:00:00Z  Federal Democratic Republic of Ethiopia!$!ET   \n",
      "1                   NaN                      Republic of Tunisia!$!TN   \n",
      "2                   NaN                                   Tuvalu!$!TV   \n",
      "3                   NaN                        Republic of Yemen!$!RY   \n",
      "4  2019-04-30T00:00:00Z                       Kingdom of Lesotho!$!LS   \n",
      "5                   NaN                        Republic of Kenya!$!KE   \n",
      "6  2019-06-30T00:00:00Z                        Republic of India!$!IN   \n",
      "7                   NaN               People's Republic of China!$!CN   \n",
      "8  2018-12-31T00:00:00Z                        Republic of India!$!IN   \n",
      "9  2014-12-31T00:00:00Z                       Kingdom of Morocco!$!MA   \n",
      "\n",
      "  countrycode                              countryname    countryshortname  \\\n",
      "0          ET  Federal Democratic Republic of Ethiopia            Ethiopia   \n",
      "1          TN                      Republic of Tunisia             Tunisia   \n",
      "2          TV                                   Tuvalu              Tuvalu   \n",
      "3          RY                        Republic of Yemen  Yemen, Republic of   \n",
      "4          LS                       Kingdom of Lesotho             Lesotho   \n",
      "5          KE                        Republic of Kenya               Kenya   \n",
      "6          IN                        Republic of India               India   \n",
      "7          CN               People's Republic of China               China   \n",
      "8          IN                        Republic of India               India   \n",
      "9          MA                       Kingdom of Morocco             Morocco   \n",
      "\n",
      "   ... source  status  supplementprojectflg  \\\n",
      "0  ...   IBRD  Active                     N   \n",
      "1  ...   IBRD  Active                     N   \n",
      "2  ...   IBRD  Active                     Y   \n",
      "3  ...   IBRD  Active                     N   \n",
      "4  ...   IBRD  Active                     N   \n",
      "5  ...   IBRD  Active                     Y   \n",
      "6  ...   IBRD  Active                     N   \n",
      "7  ...   IBRD  Active                     N   \n",
      "8  ...   IBRD  Active                     N   \n",
      "9  ...   IBRD  Active                     N   \n",
      "\n",
      "                               theme1.Name theme1.Percent  \\\n",
      "0                        Education for all            100   \n",
      "1                Other economic management             30   \n",
      "2                     Regional integration             46   \n",
      "3       Participation and civic engagement             50   \n",
      "4   Export development and competitiveness             30   \n",
      "5                       Social safety nets            100   \n",
      "6  Administrative and civil service reform             20   \n",
      "7                           Climate change            100   \n",
      "8                  Other rural development             87   \n",
      "9     Other accountability/anti-corruption             33   \n",
      "\n",
      "                                      theme_namecode    themecode   totalamt  \\\n",
      "0      [{'code': '65', 'name': 'Education for all'}]           65  130000000   \n",
      "1  [{'code': '24', 'name': 'Other economic manage...        54,24          0   \n",
      "2  [{'code': '47', 'name': 'Regional integration'...  52,81,25,47    6060000   \n",
      "3  [{'code': '57', 'name': 'Participation and civ...        59,57          0   \n",
      "4  [{'code': '45', 'name': 'Export development an...        41,45   13100000   \n",
      "5     [{'code': '54', 'name': 'Social safety nets'}]           54   10000000   \n",
      "6  [{'code': '25', 'name': 'Administrative and ci...        39,25  500000000   \n",
      "7         [{'code': '81', 'name': 'Climate change'}]           81          0   \n",
      "8  [{'code': '79', 'name': 'Other rural developme...           79  160000000   \n",
      "9  [{'code': '29', 'name': 'Other accountability/...     27,30,29  200000000   \n",
      "\n",
      "  totalcommamt                                                url  \n",
      "0    130000000  http://www.worldbank.org/projects/P129828/ethi...  \n",
      "1      4700000  http://www.worldbank.org/projects/P144674?lang=en  \n",
      "2      6060000  http://www.worldbank.org/projects/P145310?lang=en  \n",
      "3      1500000  http://www.worldbank.org/projects/P144665?lang=en  \n",
      "4     13100000  http://www.worldbank.org/projects/P144933/seco...  \n",
      "5     10000000  http://www.worldbank.org/projects/P146161?lang=en  \n",
      "6    500000000  http://www.worldbank.org/projects/P121185/firs...  \n",
      "7     27280000  http://www.worldbank.org/projects/P127033/chin...  \n",
      "8    160000000  http://www.worldbank.org/projects/P130164/raja...  \n",
      "9    200000000  http://www.worldbank.org/projects/P130903?lang=en  \n",
      "\n",
      "[10 rows x 55 columns]\n"
     ]
    }
   ],
   "source": [
    "#### It would be nice, if we can see the data in a table format, which we can convert to a data frame later\n",
    "\n",
    "# use normalization to create a table and examine the values\n",
    "print(json_normalize(wb_json_data).head(10))"
   ]
  },
  {
   "cell_type": "code",
   "execution_count": 39,
   "metadata": {},
   "outputs": [
    {
     "name": "stdout",
     "output_type": "stream",
     "text": [
      "<class 'pandas.core.frame.DataFrame'>\n",
      "RangeIndex: 500 entries, 0 to 499\n",
      "Data columns (total 55 columns):\n",
      "_id.$oid                    500 non-null object\n",
      "approvalfy                  500 non-null object\n",
      "board_approval_month        500 non-null object\n",
      "boardapprovaldate           500 non-null object\n",
      "borrower                    485 non-null object\n",
      "closingdate                 370 non-null object\n",
      "country_namecode            500 non-null object\n",
      "countrycode                 500 non-null object\n",
      "countryname                 500 non-null object\n",
      "countryshortname            500 non-null object\n",
      "docty                       446 non-null object\n",
      "envassesmentcategorycode    430 non-null object\n",
      "grantamt                    500 non-null int64\n",
      "ibrdcommamt                 500 non-null int64\n",
      "id                          500 non-null object\n",
      "idacommamt                  500 non-null int64\n",
      "impagency                   472 non-null object\n",
      "lendinginstr                495 non-null object\n",
      "lendinginstrtype            495 non-null object\n",
      "lendprojectcost             500 non-null int64\n",
      "majorsector_percent         500 non-null object\n",
      "mjsector_namecode           500 non-null object\n",
      "mjtheme                     491 non-null object\n",
      "mjtheme_namecode            500 non-null object\n",
      "mjthemecode                 500 non-null object\n",
      "prodline                    500 non-null object\n",
      "prodlinetext                500 non-null object\n",
      "productlinetype             500 non-null object\n",
      "project_abstract.cdata      362 non-null object\n",
      "project_name                500 non-null object\n",
      "projectdocs                 446 non-null object\n",
      "projectfinancialtype        500 non-null object\n",
      "projectstatusdisplay        500 non-null object\n",
      "regionname                  500 non-null object\n",
      "sector                      500 non-null object\n",
      "sector1.Name                500 non-null object\n",
      "sector1.Percent             500 non-null int64\n",
      "sector2.Name                380 non-null object\n",
      "sector2.Percent             380 non-null float64\n",
      "sector3.Name                265 non-null object\n",
      "sector3.Percent             265 non-null float64\n",
      "sector4.Name                174 non-null object\n",
      "sector4.Percent             174 non-null float64\n",
      "sector_namecode             500 non-null object\n",
      "sectorcode                  500 non-null object\n",
      "source                      500 non-null object\n",
      "status                      500 non-null object\n",
      "supplementprojectflg        498 non-null object\n",
      "theme1.Name                 500 non-null object\n",
      "theme1.Percent              500 non-null int64\n",
      "theme_namecode              491 non-null object\n",
      "themecode                   491 non-null object\n",
      "totalamt                    500 non-null int64\n",
      "totalcommamt                500 non-null int64\n",
      "url                         500 non-null object\n",
      "dtypes: float64(3), int64(8), object(44)\n",
      "memory usage: 214.9+ KB\n",
      "None\n"
     ]
    }
   ],
   "source": [
    "## It is always good to know about the varaibles and dtype, so that you have an idea what is max number of entries\n",
    "## and how many missing values are missing in which variable\n",
    "print(json_normalize(wb_json_data).info())"
   ]
  },
  {
   "cell_type": "code",
   "execution_count": 40,
   "metadata": {},
   "outputs": [],
   "source": [
    "# Question 1 - 10 countries which have max number of projects\n",
    "# SO first we will make sure that there is no missing values in the country or #related column like country code, \n",
    "#country short name.\n",
    "# Looking at the information above all the variables with country have no #missing values as there are \n",
    "# a total of 500 obseravations"
   ]
  },
  {
   "cell_type": "code",
   "execution_count": 41,
   "metadata": {},
   "outputs": [
    {
     "name": "stdout",
     "output_type": "stream",
     "text": [
      "Indonesia             19\n",
      "China                 19\n",
      "Vietnam               17\n",
      "India                 16\n",
      "Yemen, Republic of    13\n",
      "Bangladesh            12\n",
      "Nepal                 12\n",
      "Morocco               12\n",
      "Africa                11\n",
      "Mozambique            11\n",
      "Name: countryshortname, dtype: int64\n"
     ]
    }
   ],
   "source": [
    "#As stated above, we have to now convert this data to panda dataFrame.\n",
    "# pandas has already imported as pd\n",
    "#convert JSON data into DataFrame\n",
    "wb_json_df = pd.read_json('Downloads/data_wrangling_json/data/world_bank_projects.json')\n",
    "\n",
    "#count the instances of each 'countryshortname' value\n",
    "wb_json_country_count = wb_json_df['countryshortname'].value_counts()\n",
    "\n",
    "# Printing head will give the top 5 by defaul, so we have to chnage that to .head(10)\n",
    "print(wb_json_country_count.head(10))"
   ]
  },
  {
   "cell_type": "markdown",
   "metadata": {},
   "source": [
    "#Other Method can be using \"GroupBY\""
   ]
  },
  {
   "cell_type": "code",
   "execution_count": 42,
   "metadata": {},
   "outputs": [
    {
     "data": {
      "text/plain": [
       "country_namecode\n",
       "People's Republic of China!$!CN         19\n",
       "Republic of Indonesia!$!ID              19\n",
       "Socialist Republic of Vietnam!$!VN      17\n",
       "Republic of India!$!IN                  16\n",
       "Republic of Yemen!$!RY                  13\n",
       "Nepal!$!NP                              12\n",
       "People's Republic of Bangladesh!$!BD    12\n",
       "Kingdom of Morocco!$!MA                 12\n",
       "Africa!$!3A                             11\n",
       "Republic of Mozambique!$!MZ             11\n",
       "Name: country_namecode, dtype: int64"
      ]
     },
     "execution_count": 42,
     "metadata": {},
     "output_type": "execute_result"
    }
   ],
   "source": [
    "top_10_countries = wb_json_df.groupby('country_namecode')['country_namecode'].count().sort_values(ascending=False)\n",
    "top_10_countries.head(10)"
   ]
  },
  {
   "cell_type": "markdown",
   "metadata": {},
   "source": [
    "# Question 2 and 3 - Find the top 10 major project themes (using column 'mjtheme_namecode')"
   ]
  },
  {
   "cell_type": "code",
   "execution_count": 43,
   "metadata": {},
   "outputs": [
    {
     "name": "stdout",
     "output_type": "stream",
     "text": [
      "(500,)\n",
      "(500,)\n"
     ]
    }
   ],
   "source": [
    "#create series on column 'mjtheme_namecode'\n",
    "wb_json_theme_df = wb_json_df['mjtheme_namecode']\n",
    "print(wb_json_theme_df.shape)\n",
    "\n",
    "#checking number of NaN values\n",
    "print(wb_json_theme_df.dropna().shape)\n",
    "\n",
    "#all rows appear to have data.  However, as per prompt, some values are missing"
   ]
  },
  {
   "cell_type": "code",
   "execution_count": 44,
   "metadata": {},
   "outputs": [
    {
     "name": "stdout",
     "output_type": "stream",
     "text": [
      "<class 'list'>\n"
     ]
    }
   ],
   "source": [
    "print(type(wb_json_theme_df[0]))"
   ]
  },
  {
   "cell_type": "code",
   "execution_count": 45,
   "metadata": {},
   "outputs": [
    {
     "data": {
      "text/plain": [
       "[{'code': '8', 'name': 'Human development'}, {'code': '11', 'name': ''}]"
      ]
     },
     "execution_count": 45,
     "metadata": {},
     "output_type": "execute_result"
    }
   ],
   "source": [
    "wb_json_theme_df[0]"
   ]
  },
  {
   "cell_type": "code",
   "execution_count": 46,
   "metadata": {},
   "outputs": [],
   "source": [
    "#Load data one more time \n",
    "#this time named it as Data -  as panda DataFrame \n",
    "Data = json.load(open('Downloads/data_wrangling_json/data/world_bank_projects.json'))\n",
    "projects_df = json_normalize(data=Data, record_path='mjtheme_namecode', errors='ignore')"
   ]
  },
  {
   "cell_type": "code",
   "execution_count": 47,
   "metadata": {},
   "outputs": [
    {
     "data": {
      "text/plain": [
       "code  name                                        \n",
       "11    Environment and natural resources management    250\n",
       "10    Rural development                               216\n",
       "8     Human development                               210\n",
       "2     Public sector governance                        199\n",
       "6     Social protection and risk management           168\n",
       "4     Financial and private sector development        146\n",
       "7     Social dev/gender/inclusion                     130\n",
       "5     Trade and integration                            77\n",
       "9     Urban development                                50\n",
       "1     Economic management                              38\n",
       "Name: name, dtype: int64"
      ]
     },
     "execution_count": 47,
     "metadata": {},
     "output_type": "execute_result"
    }
   ],
   "source": [
    "#Create a key df of unique codes and names\n",
    "key = projects_df.drop_duplicates()\n",
    "key = key.loc[key['name'] != '']\n",
    "#Set code as index\n",
    "key.set_index('code',inplace=True)\n",
    "#Map the key names to the Projects DF\n",
    "projects_df['name']=projects_df['code'].map(key['name'])\n",
    "# Group by project name and aggregate by count\n",
    "top_projects = projects_df.groupby(['code','name'])['name'].count().sort_values(ascending=False)\n",
    "top_projects.head(10)"
   ]
  },
  {
   "cell_type": "code",
   "execution_count": null,
   "metadata": {},
   "outputs": [],
   "source": []
  },
  {
   "cell_type": "code",
   "execution_count": null,
   "metadata": {},
   "outputs": [],
   "source": []
  }
 ],
 "metadata": {
  "kernelspec": {
   "display_name": "Python 3",
   "language": "python",
   "name": "python3"
  },
  "language_info": {
   "codemirror_mode": {
    "name": "ipython",
    "version": 3
   },
   "file_extension": ".py",
   "mimetype": "text/x-python",
   "name": "python",
   "nbconvert_exporter": "python",
   "pygments_lexer": "ipython3",
   "version": "3.7.3"
  }
 },
 "nbformat": 4,
 "nbformat_minor": 2
}
